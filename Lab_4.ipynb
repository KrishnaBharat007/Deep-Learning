{
 "cells": [
  {
   "cell_type": "code",
   "execution_count": 1,
   "metadata": {},
   "outputs": [
    {
     "name": "stdout",
     "output_type": "stream",
     "text": [
      "%pylab is deprecated, use %matplotlib inline and import the required libraries.\n",
      "Populating the interactive namespace from numpy and matplotlib\n"
     ]
    }
   ],
   "source": [
    "%pylab inline"
   ]
  },
  {
   "cell_type": "code",
   "execution_count": 2,
   "metadata": {},
   "outputs": [],
   "source": [
    "from pandas import *\n",
    "import torch\n",
    "import torchvision\n",
    "import torch.nn as nn\n",
    "import torch.nn.functional as F\n",
    "import torch.optim as optim\n",
    "from torchvision import datasets, transforms\n",
    "from torch.autograd import Variable"
   ]
  },
  {
   "cell_type": "raw",
   "metadata": {},
   "source": [
    "Define a couple of parameters \"meaningfully\" -> consult the tutorial for help\n",
    "https://pytorch.org/tutorials/beginner/deep_learning_60min_blitz.html\n",
    "\n",
    "We want to use the MNIST dataset (not CIFAR)!"
   ]
  },
  {
   "cell_type": "code",
   "execution_count": 3,
   "metadata": {},
   "outputs": [],
   "source": [
    "n_epochs = 6\n",
    "batch_size_train = 64\n",
    "batch_size_test = 10000\n",
    "learning_rate = 0.01\n",
    "momentum = 0.5"
   ]
  },
  {
   "cell_type": "raw",
   "metadata": {},
   "source": [
    "Now we need to load the MNIST dataset using the dataloader functions\n",
    "for CIFAR the following transforms are used:\n",
    "transform = transforms.Compose([transforms.ToTensor(),transforms.Normalize((0.5, 0.5, 0.5), (0.5, 0.5, 0.5))])\n",
    "\n",
    "It turns out that for MNIST this transform works better due to the difference in value range:\n",
    "torchvision.transforms.Compose([torchvision.transforms.ToTensor(),\n",
    "                               torchvision.transforms.Normalize((0.1307,), (0.3081,))])\n",
    "                             \n",
    "Observe that the RGB image for CIFAR needs three channels (all 0.5) MNIST has only one gray channel!"
   ]
  },
  {
   "cell_type": "code",
   "execution_count": 4,
   "metadata": {},
   "outputs": [],
   "source": [
    "transform =transforms.Compose([torchvision.transforms.ToTensor(), torchvision.transforms.Normalize((0.1307,), (0.3081,))])\n",
    "train_set = datasets.MNIST('./data', download = True, train = True, transform = transform)\n",
    "train_loader = torch.utils.data.DataLoader(train_set, batch_size = batch_size_train, shuffle = True, num_workers = 2)\n",
    "test_set = datasets.MNIST('./data', download = True, train = False, transform = transform)\n",
    "test_loader = torch.utils.data.DataLoader(test_set, batch_size = batch_size_test, shuffle = True, num_workers = 2)"
   ]
  },
  {
   "cell_type": "raw",
   "metadata": {},
   "source": [
    "I recommend testing is the dataloader worked, render one of the images and put the numeral in the title"
   ]
  },
  {
   "cell_type": "code",
   "execution_count": 5,
   "metadata": {},
   "outputs": [
    {
     "data": {
      "text/plain": [
       "Text(0.5, 1.0, 'Image of Number 7')"
      ]
     },
     "execution_count": 5,
     "metadata": {},
     "output_type": "execute_result"
    },
    {
     "data": {
      "image/png": "[encoded data removed]",
      "text/plain": [
       "<Figure size 432x288 with 1 Axes>"
      ]
     },
     "metadata": {
      "needs_background": "light"
     },
     "output_type": "display_data"
    }
   ],
   "source": [
    "imshow(test_set[0][0][0],cmap = 'gray')\n",
    "title('Image of Number 7')"
   ]
  },
  {
   "cell_type": "raw",
   "metadata": {},
   "source": [
    "Now we need to define our convolutional neural network, is should have 1 convolutional layer (I recommend handing over the kernel size as a parameter at construction) and 1 pooling layer followed by other normal layers\n",
    "\n",
    "You only have one in channel (gray)\n",
    "\n",
    "the number of out channels is up to you - pick wisely, the same applies to the other weights of the other layers"
   ]
  },
  {
   "cell_type": "code",
   "execution_count": 6,
   "metadata": {},
   "outputs": [],
   "source": [
    "class myCNN(nn.Module):\n",
    "    def __init__(self, kernelSize):\n",
    "        super(myCNN,self).__init__()\n",
    "        self.out_channels = 5\n",
    "        noc = self.out_channels\n",
    "        self.conv1 = nn.Sequential(nn.Conv2d(in_channels=1, out_channels= noc, kernel_size= kernelSize), \n",
    "                                   nn.ReLU(),nn.MaxPool2d(kernel_size=kernelSize))\n",
    "        size = (28 - kernelSize + 1)//kernelSize\n",
    "        new_in = noc*size*size\n",
    "        self.fc = nn.Linear(new_in,new_in//2)\n",
    "        self.out = nn.Linear(new_in//2,10)\n",
    "        \n",
    "    def forward(self,x):\n",
    "        x = self.conv1(x)\n",
    "        self.features = x\n",
    "        x = x.view(x.size(0), -1)\n",
    "        x = F.relu(self.fc(x))\n",
    "        x = self.out(x)\n",
    "        return x"
   ]
  },
  {
   "cell_type": "raw",
   "metadata": {},
   "source": [
    "Now implement the training and testing code. Toggle the training and testing for the convolutional neural network\n",
    "using the model.train() and model.eval() functions!\n",
    "Choose your own optimiser and loss function!\n",
    "\n",
    "Collect training and testing accuracy over training"
   ]
  },
  {
   "cell_type": "code",
   "execution_count": 7,
   "metadata": {},
   "outputs": [],
   "source": [
    "def train(num_epochs, model, loaders):\n",
    "    model.train()\n",
    "    # Train the model\n",
    "    total_step = len(loaders)\n",
    "    correct = 0\n",
    "    for i, (images, labels) in enumerate(loaders):\n",
    "        # gives batch data, normalize x when iterate train_loader\n",
    "        b_x = Variable(images)   # batch x\n",
    "        b_y = Variable(labels)   # batch y\n",
    "        output = model(b_x)\n",
    "        preds = torch.max(output, 1)\n",
    "        loss = loss_func(output, b_y)\n",
    "        # clear gradients for this training step   \n",
    "        optimizer.zero_grad()           \n",
    "        # backpropagation, compute gradients \n",
    "        loss.backward()    \n",
    "        # apply gradients             \n",
    "        optimizer.step()\n",
    "        correct += (preds[1]==b_y).sum().item()\n",
    "        if (i+1) % 100 == 0:\n",
    "            print('Epoch [{}/{}], Step [{}/{}], Loss: {:.4f}'.format(epoch + 1, n_epochs, i + 1, total_step, loss.item()))\n",
    "    train_acc = correct*100/60000\n",
    "    print('Train Accuracy of the model on the 60000 train images: %.2f' % train_acc)\n",
    "    return train_acc"
   ]
  },
  {
   "cell_type": "code",
   "execution_count": 8,
   "metadata": {},
   "outputs": [],
   "source": [
    "def test(model,loaders):\n",
    "    # Test the model\n",
    "    model.eval()\n",
    "    with torch.no_grad():\n",
    "        correct = 0\n",
    "        total = 0\n",
    "        for images, labels in loaders:\n",
    "            test_output = model(images)\n",
    "            pred_y = torch.max(test_output, 1)[1].data.squeeze()\n",
    "            test_acc = 100* (pred_y == labels).sum().item() / float(labels.size(0))\n",
    "            print('Test Accuracy of the model on the 10000 test images: %.2f' % test_acc)\n",
    "    return test_acc        "
   ]
  },
  {
   "cell_type": "code",
   "execution_count": 9,
   "metadata": {},
   "outputs": [],
   "source": [
    "model = myCNN(2)\n",
    "\n",
    "loss_func = nn.CrossEntropyLoss()\n",
    "optimizer = optim.SGD(model.parameters(), lr = learning_rate, momentum= momentum)"
   ]
  },
  {
   "cell_type": "code",
   "execution_count": 10,
   "metadata": {},
   "outputs": [
    {
     "name": "stdout",
     "output_type": "stream",
     "text": [
      "Epoch [1/6], Step [100/938], Loss: 0.5387\n",
      "Epoch [1/6], Step [200/938], Loss: 0.4492\n",
      "Epoch [1/6], Step [300/938], Loss: 0.4816\n",
      "Epoch [1/6], Step [400/938], Loss: 0.6487\n",
      "Epoch [1/6], Step [500/938], Loss: 0.2185\n",
      "Epoch [1/6], Step [600/938], Loss: 0.5298\n",
      "Epoch [1/6], Step [700/938], Loss: 0.2916\n",
      "Epoch [1/6], Step [800/938], Loss: 0.2567\n",
      "Epoch [1/6], Step [900/938], Loss: 0.1274\n",
      "Train Accuracy of the model on the 60000 train images: 87.73\n",
      "Test Accuracy of the model on the 10000 test images: 93.80\n",
      "Epoch [2/6], Step [100/938], Loss: 0.1972\n",
      "Epoch [2/6], Step [200/938], Loss: 0.1469\n",
      "Epoch [2/6], Step [300/938], Loss: 0.0550\n",
      "Epoch [2/6], Step [400/938], Loss: 0.2294\n",
      "Epoch [2/6], Step [500/938], Loss: 0.1611\n",
      "Epoch [2/6], Step [600/938], Loss: 0.1495\n",
      "Epoch [2/6], Step [700/938], Loss: 0.2180\n",
      "Epoch [2/6], Step [800/938], Loss: 0.1292\n",
      "Epoch [2/6], Step [900/938], Loss: 0.1989\n",
      "Train Accuracy of the model on the 60000 train images: 94.79\n",
      "Test Accuracy of the model on the 10000 test images: 95.83\n",
      "Epoch [3/6], Step [100/938], Loss: 0.0977\n",
      "Epoch [3/6], Step [200/938], Loss: 0.0868\n",
      "Epoch [3/6], Step [300/938], Loss: 0.1621\n",
      "Epoch [3/6], Step [400/938], Loss: 0.0563\n",
      "Epoch [3/6], Step [500/938], Loss: 0.0298\n",
      "Epoch [3/6], Step [600/938], Loss: 0.1266\n",
      "Epoch [3/6], Step [700/938], Loss: 0.0757\n",
      "Epoch [3/6], Step [800/938], Loss: 0.2080\n",
      "Epoch [3/6], Step [900/938], Loss: 0.0799\n",
      "Train Accuracy of the model on the 60000 train images: 96.40\n",
      "Test Accuracy of the model on the 10000 test images: 96.62\n",
      "Epoch [4/6], Step [100/938], Loss: 0.1096\n",
      "Epoch [4/6], Step [200/938], Loss: 0.1412\n",
      "Epoch [4/6], Step [300/938], Loss: 0.2940\n",
      "Epoch [4/6], Step [400/938], Loss: 0.0930\n",
      "Epoch [4/6], Step [500/938], Loss: 0.0768\n",
      "Epoch [4/6], Step [600/938], Loss: 0.1482\n",
      "Epoch [4/6], Step [700/938], Loss: 0.0890\n",
      "Epoch [4/6], Step [800/938], Loss: 0.0151\n",
      "Epoch [4/6], Step [900/938], Loss: 0.0756\n",
      "Train Accuracy of the model on the 60000 train images: 97.16\n",
      "Test Accuracy of the model on the 10000 test images: 97.17\n",
      "Epoch [5/6], Step [100/938], Loss: 0.1240\n",
      "Epoch [5/6], Step [200/938], Loss: 0.0313\n",
      "Epoch [5/6], Step [300/938], Loss: 0.0728\n",
      "Epoch [5/6], Step [400/938], Loss: 0.0666\n",
      "Epoch [5/6], Step [500/938], Loss: 0.0472\n",
      "Epoch [5/6], Step [600/938], Loss: 0.1560\n",
      "Epoch [5/6], Step [700/938], Loss: 0.1259\n",
      "Epoch [5/6], Step [800/938], Loss: 0.0562\n",
      "Epoch [5/6], Step [900/938], Loss: 0.0780\n",
      "Train Accuracy of the model on the 60000 train images: 97.62\n",
      "Test Accuracy of the model on the 10000 test images: 96.87\n",
      "Epoch [6/6], Step [100/938], Loss: 0.0426\n",
      "Epoch [6/6], Step [200/938], Loss: 0.0694\n",
      "Epoch [6/6], Step [300/938], Loss: 0.1512\n",
      "Epoch [6/6], Step [400/938], Loss: 0.0563\n",
      "Epoch [6/6], Step [500/938], Loss: 0.0781\n",
      "Epoch [6/6], Step [600/938], Loss: 0.0809\n",
      "Epoch [6/6], Step [700/938], Loss: 0.0339\n",
      "Epoch [6/6], Step [800/938], Loss: 0.0288\n",
      "Epoch [6/6], Step [900/938], Loss: 0.0392\n",
      "Train Accuracy of the model on the 60000 train images: 98.00\n",
      "Test Accuracy of the model on the 10000 test images: 97.67\n"
     ]
    }
   ],
   "source": [
    "trainAccuracy=list()\n",
    "testAccuracy=list()\n",
    "#more code here\n",
    "for epoch in range(n_epochs):\n",
    "    trainAccuracy.append(train(epoch, model, train_loader))\n",
    "    testAccuracy.append(test(model,test_loader))"
   ]
  },
  {
   "cell_type": "raw",
   "metadata": {},
   "source": [
    "now we plot both to test for overfitting"
   ]
  },
  {
   "cell_type": "code",
   "execution_count": 11,
   "metadata": {},
   "outputs": [
    {
     "data": {
      "text/plain": [
       "[<matplotlib.lines.Line2D at 0x26009b2e820>]"
      ]
     },
     "execution_count": 11,
     "metadata": {},
     "output_type": "execute_result"
    },
    {
     "data": {
      "image/png": "[encoded data removed]",
      "text/plain": [
       "<Figure size 432x288 with 1 Axes>"
      ]
     },
     "metadata": {
      "needs_background": "light"
     },
     "output_type": "display_data"
    }
   ],
   "source": [
    "plot(trainAccuracy,'k')\n",
    "plot(testAccuracy,'r')"
   ]
  },
  {
   "cell_type": "raw",
   "metadata": {},
   "source": [
    "Tune the parameters above until you get a good training efficiency and not too much overfitting, also do not train more than neccesary\n",
    "\n",
    "In the next cell we define the kernel sizes we want to test"
   ]
  },
  {
   "cell_type": "code",
   "execution_count": 12,
   "metadata": {},
   "outputs": [
    {
     "name": "stdout",
     "output_type": "stream",
     "text": [
      "For Kernel Size 3:\n",
      "Epoch [1/6], Step [100/938], Loss: 1.2787\n",
      "Epoch [1/6], Step [200/938], Loss: 0.7649\n",
      "Epoch [1/6], Step [300/938], Loss: 0.5765\n",
      "Epoch [1/6], Step [400/938], Loss: 0.3745\n",
      "Epoch [1/6], Step [500/938], Loss: 0.5176\n",
      "Epoch [1/6], Step [600/938], Loss: 0.2009\n",
      "Epoch [1/6], Step [700/938], Loss: 0.4142\n",
      "Epoch [1/6], Step [800/938], Loss: 0.5367\n",
      "Epoch [1/6], Step [900/938], Loss: 0.3283\n",
      "Train Accuracy of the model on the 60000 train images: 83.30\n",
      "Test Accuracy of the model on the 10000 test images: 92.55\n",
      "Epoch [2/6], Step [100/938], Loss: 0.2265\n",
      "Epoch [2/6], Step [200/938], Loss: 0.1301\n",
      "Epoch [2/6], Step [300/938], Loss: 0.1817\n",
      "Epoch [2/6], Step [400/938], Loss: 0.1948\n",
      "Epoch [2/6], Step [500/938], Loss: 0.2846\n",
      "Epoch [2/6], Step [600/938], Loss: 0.2573\n",
      "Epoch [2/6], Step [700/938], Loss: 0.2019\n",
      "Epoch [2/6], Step [800/938], Loss: 0.2219\n",
      "Epoch [2/6], Step [900/938], Loss: 0.0995\n",
      "Train Accuracy of the model on the 60000 train images: 93.50\n",
      "Test Accuracy of the model on the 10000 test images: 94.94\n",
      "Epoch [3/6], Step [100/938], Loss: 0.1670\n",
      "Epoch [3/6], Step [200/938], Loss: 0.1171\n",
      "Epoch [3/6], Step [300/938], Loss: 0.1608\n",
      "Epoch [3/6], Step [400/938], Loss: 0.1132\n",
      "Epoch [3/6], Step [500/938], Loss: 0.3693\n",
      "Epoch [3/6], Step [600/938], Loss: 0.1546\n",
      "Epoch [3/6], Step [700/938], Loss: 0.1274\n",
      "Epoch [3/6], Step [800/938], Loss: 0.2340\n",
      "Epoch [3/6], Step [900/938], Loss: 0.0395\n",
      "Train Accuracy of the model on the 60000 train images: 95.42\n",
      "Test Accuracy of the model on the 10000 test images: 96.28\n",
      "Epoch [4/6], Step [100/938], Loss: 0.0869\n",
      "Epoch [4/6], Step [200/938], Loss: 0.1116\n",
      "Epoch [4/6], Step [300/938], Loss: 0.2632\n",
      "Epoch [4/6], Step [400/938], Loss: 0.1645\n",
      "Epoch [4/6], Step [500/938], Loss: 0.1654\n",
      "Epoch [4/6], Step [600/938], Loss: 0.1820\n",
      "Epoch [4/6], Step [700/938], Loss: 0.1038\n",
      "Epoch [4/6], Step [800/938], Loss: 0.0560\n",
      "Epoch [4/6], Step [900/938], Loss: 0.0934\n",
      "Train Accuracy of the model on the 60000 train images: 96.45\n",
      "Test Accuracy of the model on the 10000 test images: 96.86\n",
      "Epoch [5/6], Step [100/938], Loss: 0.1176\n",
      "Epoch [5/6], Step [200/938], Loss: 0.1185\n",
      "Epoch [5/6], Step [300/938], Loss: 0.1178\n",
      "Epoch [5/6], Step [400/938], Loss: 0.1549\n",
      "Epoch [5/6], Step [500/938], Loss: 0.2457\n",
      "Epoch [5/6], Step [600/938], Loss: 0.0475\n",
      "Epoch [5/6], Step [700/938], Loss: 0.1020\n",
      "Epoch [5/6], Step [800/938], Loss: 0.0447\n",
      "Epoch [5/6], Step [900/938], Loss: 0.0831\n",
      "Train Accuracy of the model on the 60000 train images: 97.14\n",
      "Test Accuracy of the model on the 10000 test images: 97.25\n",
      "Epoch [6/6], Step [100/938], Loss: 0.0670\n",
      "Epoch [6/6], Step [200/938], Loss: 0.1387\n",
      "Epoch [6/6], Step [300/938], Loss: 0.0635\n",
      "Epoch [6/6], Step [400/938], Loss: 0.1211\n",
      "Epoch [6/6], Step [500/938], Loss: 0.1026\n",
      "Epoch [6/6], Step [600/938], Loss: 0.0450\n",
      "Epoch [6/6], Step [700/938], Loss: 0.0861\n",
      "Epoch [6/6], Step [800/938], Loss: 0.0939\n",
      "Epoch [6/6], Step [900/938], Loss: 0.0485\n",
      "Train Accuracy of the model on the 60000 train images: 97.42\n",
      "Test Accuracy of the model on the 10000 test images: 97.32\n",
      "For Kernel Size 4:\n",
      "Epoch [1/6], Step [100/938], Loss: 1.2052\n",
      "Epoch [1/6], Step [200/938], Loss: 0.4399\n",
      "Epoch [1/6], Step [300/938], Loss: 0.2223\n",
      "Epoch [1/6], Step [400/938], Loss: 0.3070\n",
      "Epoch [1/6], Step [500/938], Loss: 0.3721\n",
      "Epoch [1/6], Step [600/938], Loss: 0.4836\n",
      "Epoch [1/6], Step [700/938], Loss: 0.2638\n",
      "Epoch [1/6], Step [800/938], Loss: 0.2641\n",
      "Epoch [1/6], Step [900/938], Loss: 0.1138\n",
      "Train Accuracy of the model on the 60000 train images: 85.04\n",
      "Test Accuracy of the model on the 10000 test images: 94.01\n",
      "Epoch [2/6], Step [100/938], Loss: 0.3122\n",
      "Epoch [2/6], Step [200/938], Loss: 0.1989\n",
      "Epoch [2/6], Step [300/938], Loss: 0.1219\n",
      "Epoch [2/6], Step [400/938], Loss: 0.1111\n",
      "Epoch [2/6], Step [500/938], Loss: 0.1872\n",
      "Epoch [2/6], Step [600/938], Loss: 0.2286\n",
      "Epoch [2/6], Step [700/938], Loss: 0.1948\n",
      "Epoch [2/6], Step [800/938], Loss: 0.1944\n",
      "Epoch [2/6], Step [900/938], Loss: 0.0739\n",
      "Train Accuracy of the model on the 60000 train images: 94.77\n",
      "Test Accuracy of the model on the 10000 test images: 96.05\n",
      "Epoch [3/6], Step [100/938], Loss: 0.0646\n",
      "Epoch [3/6], Step [200/938], Loss: 0.1635\n",
      "Epoch [3/6], Step [300/938], Loss: 0.1115\n",
      "Epoch [3/6], Step [400/938], Loss: 0.0695\n",
      "Epoch [3/6], Step [500/938], Loss: 0.1731\n",
      "Epoch [3/6], Step [600/938], Loss: 0.0341\n",
      "Epoch [3/6], Step [700/938], Loss: 0.0881\n",
      "Epoch [3/6], Step [800/938], Loss: 0.2076\n",
      "Epoch [3/6], Step [900/938], Loss: 0.0807\n",
      "Train Accuracy of the model on the 60000 train images: 96.18\n",
      "Test Accuracy of the model on the 10000 test images: 96.86\n",
      "Epoch [4/6], Step [100/938], Loss: 0.1312\n",
      "Epoch [4/6], Step [200/938], Loss: 0.0345\n",
      "Epoch [4/6], Step [300/938], Loss: 0.0289\n",
      "Epoch [4/6], Step [400/938], Loss: 0.0773\n",
      "Epoch [4/6], Step [500/938], Loss: 0.1398\n",
      "Epoch [4/6], Step [600/938], Loss: 0.0876\n",
      "Epoch [4/6], Step [700/938], Loss: 0.1067\n",
      "Epoch [4/6], Step [800/938], Loss: 0.1020\n",
      "Epoch [4/6], Step [900/938], Loss: 0.0984\n",
      "Train Accuracy of the model on the 60000 train images: 96.86\n",
      "Test Accuracy of the model on the 10000 test images: 97.09\n",
      "Epoch [5/6], Step [100/938], Loss: 0.0955\n",
      "Epoch [5/6], Step [200/938], Loss: 0.1264\n",
      "Epoch [5/6], Step [300/938], Loss: 0.2142\n",
      "Epoch [5/6], Step [400/938], Loss: 0.1114\n",
      "Epoch [5/6], Step [500/938], Loss: 0.0250\n",
      "Epoch [5/6], Step [600/938], Loss: 0.0344\n",
      "Epoch [5/6], Step [700/938], Loss: 0.0231\n",
      "Epoch [5/6], Step [800/938], Loss: 0.1304\n",
      "Epoch [5/6], Step [900/938], Loss: 0.0579\n",
      "Train Accuracy of the model on the 60000 train images: 97.32\n",
      "Test Accuracy of the model on the 10000 test images: 97.53\n",
      "Epoch [6/6], Step [100/938], Loss: 0.1092\n",
      "Epoch [6/6], Step [200/938], Loss: 0.1294\n",
      "Epoch [6/6], Step [300/938], Loss: 0.0544\n",
      "Epoch [6/6], Step [400/938], Loss: 0.0172\n",
      "Epoch [6/6], Step [500/938], Loss: 0.1486\n",
      "Epoch [6/6], Step [600/938], Loss: 0.1104\n",
      "Epoch [6/6], Step [700/938], Loss: 0.0225\n",
      "Epoch [6/6], Step [800/938], Loss: 0.0199\n",
      "Epoch [6/6], Step [900/938], Loss: 0.0534\n",
      "Train Accuracy of the model on the 60000 train images: 97.60\n",
      "Test Accuracy of the model on the 10000 test images: 97.70\n",
      "For Kernel Size 5:\n",
      "Epoch [1/6], Step [100/938], Loss: 1.8006\n",
      "Epoch [1/6], Step [200/938], Loss: 0.8238\n",
      "Epoch [1/6], Step [300/938], Loss: 0.5049\n",
      "Epoch [1/6], Step [400/938], Loss: 0.3897\n",
      "Epoch [1/6], Step [500/938], Loss: 0.0984\n",
      "Epoch [1/6], Step [600/938], Loss: 0.5089\n",
      "Epoch [1/6], Step [700/938], Loss: 0.2501\n",
      "Epoch [1/6], Step [800/938], Loss: 0.2195\n",
      "Epoch [1/6], Step [900/938], Loss: 0.2518\n",
      "Train Accuracy of the model on the 60000 train images: 79.77\n",
      "Test Accuracy of the model on the 10000 test images: 93.91\n",
      "Epoch [2/6], Step [100/938], Loss: 0.0985\n",
      "Epoch [2/6], Step [200/938], Loss: 0.2561\n",
      "Epoch [2/6], Step [300/938], Loss: 0.1909\n",
      "Epoch [2/6], Step [400/938], Loss: 0.2670\n",
      "Epoch [2/6], Step [500/938], Loss: 0.1661\n",
      "Epoch [2/6], Step [600/938], Loss: 0.1409\n",
      "Epoch [2/6], Step [700/938], Loss: 0.2734\n",
      "Epoch [2/6], Step [800/938], Loss: 0.2261\n",
      "Epoch [2/6], Step [900/938], Loss: 0.0371\n",
      "Train Accuracy of the model on the 60000 train images: 94.44\n",
      "Test Accuracy of the model on the 10000 test images: 95.68\n",
      "Epoch [3/6], Step [100/938], Loss: 0.2012\n",
      "Epoch [3/6], Step [200/938], Loss: 0.1814\n",
      "Epoch [3/6], Step [300/938], Loss: 0.0981\n",
      "Epoch [3/6], Step [400/938], Loss: 0.0851\n",
      "Epoch [3/6], Step [500/938], Loss: 0.1069\n",
      "Epoch [3/6], Step [600/938], Loss: 0.0921\n",
      "Epoch [3/6], Step [700/938], Loss: 0.1628\n",
      "Epoch [3/6], Step [800/938], Loss: 0.1912\n",
      "Epoch [3/6], Step [900/938], Loss: 0.1279\n",
      "Train Accuracy of the model on the 60000 train images: 95.55\n",
      "Test Accuracy of the model on the 10000 test images: 96.46\n",
      "Epoch [4/6], Step [100/938], Loss: 0.1996\n",
      "Epoch [4/6], Step [200/938], Loss: 0.0953\n",
      "Epoch [4/6], Step [300/938], Loss: 0.1073\n",
      "Epoch [4/6], Step [400/938], Loss: 0.1848\n",
      "Epoch [4/6], Step [500/938], Loss: 0.2903\n",
      "Epoch [4/6], Step [600/938], Loss: 0.0455\n",
      "Epoch [4/6], Step [700/938], Loss: 0.1570\n",
      "Epoch [4/6], Step [800/938], Loss: 0.1738\n",
      "Epoch [4/6], Step [900/938], Loss: 0.0905\n",
      "Train Accuracy of the model on the 60000 train images: 96.23\n",
      "Test Accuracy of the model on the 10000 test images: 95.80\n",
      "Epoch [5/6], Step [100/938], Loss: 0.0331\n",
      "Epoch [5/6], Step [200/938], Loss: 0.0242\n",
      "Epoch [5/6], Step [300/938], Loss: 0.1099\n",
      "Epoch [5/6], Step [400/938], Loss: 0.0979\n"
     ]
    },
    {
     "name": "stdout",
     "output_type": "stream",
     "text": [
      "Epoch [5/6], Step [500/938], Loss: 0.1001\n",
      "Epoch [5/6], Step [600/938], Loss: 0.0570\n",
      "Epoch [5/6], Step [700/938], Loss: 0.0939\n",
      "Epoch [5/6], Step [800/938], Loss: 0.1258\n",
      "Epoch [5/6], Step [900/938], Loss: 0.0607\n",
      "Train Accuracy of the model on the 60000 train images: 96.46\n",
      "Test Accuracy of the model on the 10000 test images: 96.75\n",
      "Epoch [6/6], Step [100/938], Loss: 0.1399\n",
      "Epoch [6/6], Step [200/938], Loss: 0.1157\n",
      "Epoch [6/6], Step [300/938], Loss: 0.0529\n",
      "Epoch [6/6], Step [400/938], Loss: 0.1190\n",
      "Epoch [6/6], Step [500/938], Loss: 0.0886\n",
      "Epoch [6/6], Step [600/938], Loss: 0.1271\n",
      "Epoch [6/6], Step [700/938], Loss: 0.2154\n",
      "Epoch [6/6], Step [800/938], Loss: 0.0733\n",
      "Epoch [6/6], Step [900/938], Loss: 0.1257\n",
      "Train Accuracy of the model on the 60000 train images: 96.79\n",
      "Test Accuracy of the model on the 10000 test images: 96.99\n"
     ]
    },
    {
     "data": {
      "image/png": "[encoded data removed]",
      "text/plain": [
       "<Figure size 432x432 with 1 Axes>"
      ]
     },
     "metadata": {
      "needs_background": "light"
     },
     "output_type": "display_data"
    },
    {
     "data": {
      "image/png": "[encoded data removed]",
      "text/plain": [
       "<Figure size 432x432 with 1 Axes>"
      ]
     },
     "metadata": {
      "needs_background": "light"
     },
     "output_type": "display_data"
    },
    {
     "data": {
      "image/png": "[encoded data removed]",
      "text/plain": [
       "<Figure size 432x432 with 1 Axes>"
      ]
     },
     "metadata": {
      "needs_background": "light"
     },
     "output_type": "display_data"
    }
   ],
   "source": [
    "kernelSizes=[3,4,5]\n",
    "\n",
    "for kernelSize in kernelSizes:\n",
    "    print(f'For Kernel Size {kernelSize}:')\n",
    "    trainAccuracy=list()\n",
    "    testAccuracy=list()\n",
    "    #instantiate your CNN using kernel size\n",
    "    model_obj = myCNN(kernelSize)\n",
    "    #define optimizer and loss function\n",
    "    loss_func = nn.CrossEntropyLoss()\n",
    "    optimizer = optim.SGD(model_obj.parameters(), lr = learning_rate, momentum= momentum)\n",
    "    #train and test - you can copy the code \n",
    "    for epoch in range(n_epochs):\n",
    "        trainAccuracy.append(train(epoch, model_obj, train_loader))\n",
    "        testAccuracy.append(test(model_obj,test_loader))\n",
    "    #now plot this\n",
    "    figure(figsize=(6,6))\n",
    "    plot(trainAccuracy,'k')\n",
    "    plot(testAccuracy,'r')\n",
    "    title(\"Kernel size: \"+str(kernelSize))"
   ]
  },
  {
   "cell_type": "raw",
   "metadata": {},
   "source": [
    "Compare the plots from above and explain which kernel size worked best, hypothesize about why?"
   ]
  },
  {
   "cell_type": "raw",
   "metadata": {},
   "source": [
    "Your answer here:\n",
    "I felt its better to have the kernel size as 5 which gave the best output for the fever epochs as we increase the kernel size the model is getting to be over fitted and loosing the accuracy."
   ]
  },
  {
   "cell_type": "raw",
   "metadata": {},
   "source": [
    "Now pick a random image and pipe it through your trained CNN\n",
    "extract the output of the convolutional layer for each output channel and visualize that as an image\n",
    "Observe that the template CNN has a self.features variable ... that might help here"
   ]
  },
  {
   "cell_type": "code",
   "execution_count": 15,
   "metadata": {},
   "outputs": [
    {
     "name": "stdout",
     "output_type": "stream",
     "text": [
      "myCNN(\n",
      "  (conv1): Sequential(\n",
      "    (0): Conv2d(1, 5, kernel_size=(2, 2), stride=(1, 1))\n",
      "    (1): ReLU()\n",
      "    (2): MaxPool2d(kernel_size=2, stride=2, padding=0, dilation=1, ceil_mode=False)\n",
      "  )\n",
      "  (fc): Linear(in_features=845, out_features=422, bias=True)\n",
      "  (out): Linear(in_features=422, out_features=10, bias=True)\n",
      ")\n"
     ]
    },
    {
     "data": {
      "image/png": "[encoded data removed]",
      "text/plain": [
       "<Figure size 432x288 with 1 Axes>"
      ]
     },
     "metadata": {
      "needs_background": "light"
     },
     "output_type": "display_data"
    },
    {
     "data": {
      "image/png": "[encoded data removed]",
      "text/plain": [
       "<Figure size 432x288 with 1 Axes>"
      ]
     },
     "metadata": {
      "needs_background": "light"
     },
     "output_type": "display_data"
    },
    {
     "data": {
      "image/png": "[encoded data removed]",
      "text/plain": [
       "<Figure size 432x288 with 1 Axes>"
      ]
     },
     "metadata": {
      "needs_background": "light"
     },
     "output_type": "display_data"
    },
    {
     "data": {
      "image/png": "[encoded data removed]",
      "text/plain": [
       "<Figure size 432x288 with 1 Axes>"
      ]
     },
     "metadata": {
      "needs_background": "light"
     },
     "output_type": "display_data"
    },
    {
     "data": {
      "image/png": "[encoded data removed]",
      "text/plain": [
       "<Figure size 432x288 with 1 Axes>"
      ]
     },
     "metadata": {
      "needs_background": "light"
     },
     "output_type": "display_data"
    },
    {
     "data": {
      "image/png": "[encoded data removed]",
      "text/plain": [
       "<Figure size 432x288 with 1 Axes>"
      ]
     },
     "metadata": {
      "needs_background": "light"
     },
     "output_type": "display_data"
    }
   ],
   "source": [
    "# Test image\n",
    "for images, labels in train_loader:\n",
    "    image = images\n",
    "    break\n",
    "plt.imshow(image[0][0])\n",
    "\n",
    "print(model)\n",
    "num_channels = model.out_channels\n",
    "model(image)\n",
    "for channel in range(num_channels):\n",
    "    plt.figure()\n",
    "    plt.imshow(model.features.detach().numpy()[0][channel])"
   ]
  },
  {
   "cell_type": "raw",
   "metadata": {},
   "source": [
    "Can you guess the feature that each channel extracted? short text below"
   ]
  },
  {
   "cell_type": "raw",
   "metadata": {},
   "source": [
    "Your answer here:\n",
    "1. Channel: Marks the whole number, probably unneccessary\n",
    "2. Channel: Checks for /-\\ shapes, i.e rounded roofs like the top of [0,2,3,6,8,9]\n",
    "3. Channel: Checks for X-shapes, i.e. intersections found in [2,3,4,6,8,9]\n",
    "4. Channel:Checks for )-shapes, i.e the right sides found in [0,2,3, 8, 9]\n",
    "5. Channel: Unclear, maybe straight horizontal lines, like in [2, 4, 7]"
   ]
  }
 ],
 "metadata": {
  "kernelspec": {
   "display_name": "Python 3 (ipykernel)",
   "language": "python",
   "name": "python3"
  },
  "language_info": {
   "codemirror_mode": {
    "name": "ipython",
    "version": 3
   },
   "file_extension": ".py",
   "mimetype": "text/x-python",
   "name": "python",
   "nbconvert_exporter": "python",
   "pygments_lexer": "ipython3",
   "version": "3.9.12"
  }
 },
 "nbformat": 4,
 "nbformat_minor": 4
}
