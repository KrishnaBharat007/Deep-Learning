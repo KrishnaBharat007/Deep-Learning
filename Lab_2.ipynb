{
 "cells": [
  {
   "cell_type": "markdown",
   "id": "0459b281",
   "metadata": {},
   "source": [
    "# Task – 1: Implement a perceptron learning algorithm\n",
    "Implement the perceptron in Python using the following algorithm. Write a function for the perceptron. The function arguments should be the dataset and learning rate.\n",
    "•Apply the following algorithm to update the weights.\n",
    "•plot the decision line after each iteration do show the results\n",
    "•Show the final weights when the algorithm converges."
   ]
  },
  {
   "cell_type": "code",
   "execution_count": 1,
   "id": "e7621a42",
   "metadata": {},
   "outputs": [
    {
     "name": "stdout",
     "output_type": "stream",
     "text": [
      "Final Weights:  0.6759076945287846 and 0.666640579785124\n"
     ]
    },
    {
     "data": {
      "image/png": "[encoded data removed]",
      "text/plain": [
       "<Figure size 432x288 with 1 Axes>"
      ]
     },
     "metadata": {
      "needs_background": "light"
     },
     "output_type": "display_data"
    }
   ],
   "source": [
    "#write your codes and discuss here...\n",
    "import numpy as np\n",
    "import random\n",
    "import matplotlib.pyplot as plt\n",
    "import pandas as pd\n",
    "\n",
    "\n",
    "dataset = np.array([[1,1,1],\n",
    "                   [1,0,1],\n",
    "                   [0,1,1],\n",
    "                   [0,0,0]])\n",
    "\n",
    "learning_rate = 0.5\n",
    "\n",
    "weight_list = []\n",
    "product_list = []\n",
    "\n",
    "def update_weights(w,n,y1,y2,x):\n",
    "    return w+(n*(y1-y2)*x)\n",
    "\n",
    "def compute_result(w,x,b):\n",
    "    return (np.dot(np.transpose(w),x) + b)\n",
    "\n",
    "def perceptron(dataset,learning_rate):\n",
    "    weights = np.array([random.random(),random.random()])\n",
    "    bias = 0.5\n",
    "    true_y = np.array_split(dataset,[2],axis = 1)[1].tolist()\n",
    "    input_x = np.array_split(dataset,[2],axis = 1)[0]\n",
    "    output_y = []\n",
    "    while true_y != output_y:\n",
    "        output_y = []\n",
    "        for itr in range(0,len(input_x)):\n",
    "            product = compute_result(weights,input_x[itr],bias)\n",
    "            y = 1 if product > 1 else 0\n",
    "            output_y.append([y])\n",
    "            weights = update_weights(weights,learning_rate,true_y[itr][0],y,input_x[itr]) if y != true_y[itr] else weights\n",
    "            weight_list.append(weights)\n",
    "            product_list.append(product)\n",
    "    return weights\n",
    "\n",
    "final_weights = perceptron(dataset,learning_rate)\n",
    "\n",
    "#Plots\n",
    "fig, ax = plt.subplots()\n",
    "xmin, xmax = -0.2, 1.2\n",
    "bias = 0.5\n",
    "X = np.arange(xmin, xmax, 0.01)\n",
    "ax.scatter(0, 0, color=\"r\")\n",
    "ax.scatter(0, 1, color=\"r\")\n",
    "ax.scatter(1, 0, color=\"r\")\n",
    "ax.scatter(1, 1, color=\"b\")\n",
    "for val in range(0,len(weight_list)):\n",
    "    m = -weight_list[val][0] / weight_list[val][1]\n",
    "    c = -bias / weight_list[val][1]\n",
    "    plt.plot(X,m * X + c)\n",
    "    plt.plot()\n",
    "\n",
    "print('Final Weights: ',final_weights[0],'and',final_weights[1])"
   ]
  },
  {
   "cell_type": "markdown",
   "id": "38233600",
   "metadata": {},
   "source": [
    "# Task – 2\n",
    "Extend Task 1 so that the perceptron can be applied as\n",
    "1.AND Gate.\n",
    "2.OR gate.\n",
    "•Use the truth table of these gates as patterns and the output of the gates as the desired output. \n",
    "•Plot the positions of these four points on a graph with suitable scale in the x and the y axes.\n",
    "•Plot the line of separability between the points in each stage of the implementation."
   ]
  },
  {
   "cell_type": "code",
   "execution_count": 2,
   "id": "5bc0eccc",
   "metadata": {},
   "outputs": [
    {
     "name": "stdout",
     "output_type": "stream",
     "text": [
      "Final Weights_and:  0.6490501546656607 and 0.9588089063744476\n",
      "Final Weights_OR:  0.9060979017051028 and 0.7016161487103262\n"
     ]
    },
    {
     "data": {
      "image/png": "[encoded data removed]",
      "text/plain": [
       "<Figure size 432x288 with 1 Axes>"
      ]
     },
     "metadata": {
      "needs_background": "light"
     },
     "output_type": "display_data"
    },
    {
     "data": {
      "image/png": "[encoded data removed]",
      "text/plain": [
       "<Figure size 432x288 with 1 Axes>"
      ]
     },
     "metadata": {
      "needs_background": "light"
     },
     "output_type": "display_data"
    }
   ],
   "source": [
    "#write your codes and discuss here...\n",
    "\n",
    "#Dataset AND\n",
    "\n",
    "dataset_and = np.array([[1,1,1],\n",
    "                   [1,0,1],\n",
    "                   [0,1,1],\n",
    "                   [0,0,0]])\n",
    "\n",
    "weight_list = []\n",
    "product_list = []\n",
    "final_weights_and = perceptron(dataset,learning_rate)\n",
    "\n",
    "#Plots\n",
    "fig, ax = plt.subplots()\n",
    "xmin, xmax = -0.2, 1.2\n",
    "bias = 0.5\n",
    "X = np.arange(xmin, xmax, 0.01)\n",
    "ax.scatter(0, 0, color=\"r\")\n",
    "ax.scatter(0, 1, color=\"r\")\n",
    "ax.scatter(1, 0, color=\"r\")\n",
    "ax.scatter(1, 1, color=\"b\")\n",
    "for val in range(0,len(weight_list)):\n",
    "    m = -weight_list[val][0] / weight_list[val][1]\n",
    "    c = -bias / weight_list[val][1]\n",
    "    plt.plot(X,m * X + c)\n",
    "    plt.plot()\n",
    "print('Final Weights_and: ',final_weights_and[0],'and',final_weights_and[1])\n",
    "\n",
    "#Dataset OR\n",
    "dataset = np.array([[1,1,1],\n",
    "                   [1,0,1],\n",
    "                   [0,1,1],\n",
    "                   [0,0,0]])\n",
    "weight_list = []\n",
    "product_list = []\n",
    "\n",
    "final_weights_or = perceptron(dataset,learning_rate)\n",
    "\n",
    "#Plots\n",
    "fig, ax = plt.subplots()\n",
    "xmin, xmax = -0.2, 1.2\n",
    "bias = 0.5\n",
    "X = np.arange(xmin, xmax, 0.01)\n",
    "ax.scatter(0, 0, color=\"r\")\n",
    "ax.scatter(0, 1, color=\"b\")\n",
    "ax.scatter(1, 0, color=\"b\")\n",
    "ax.scatter(1, 1, color=\"b\")\n",
    "for val in range(0,len(final_weights_or)):\n",
    "    m = -weight_list[val][0] / weight_list[val][1]\n",
    "    c = -bias / weight_list[val][1]\n",
    "    plt.plot(X,m * X + c)\n",
    "    plt.plot()\n",
    "\n",
    "print('Final Weights_OR: ',final_weights_or[0],'and',final_weights_or[1])"
   ]
  },
  {
   "cell_type": "markdown",
   "id": "687f61fa",
   "metadata": {},
   "source": [
    "\n",
    "# Task – 3\n",
    "The perceptron will be used in this task to classify the IRIS dataset into two classes. Notice that the dataset contains 150 instances (samples) with 3 classes. You can choose two of three class for this task.\n",
    "•Write a function to access the IRIS dataset from the link below and convert it into a suitable format that can be dealt with by the perceptron.  https://archive.ics.uci.edu/ml/machine-learning-databases/iris/iris.data \n",
    "\n",
    "This can be achieved by converting the text in the dataset into numbers that represent the different class numbers. \n",
    "•Train the perceptron in Task 1 to classify the two classes.\n",
    "•Your code should show the line of separability between the two classes."
   ]
  },
  {
   "cell_type": "code",
   "execution_count": 3,
   "id": "7e614c48",
   "metadata": {},
   "outputs": [
    {
     "name": "stdout",
     "output_type": "stream",
     "text": [
      "-1.1274704121508201 -0.62256461820134\n",
      "Final Weights_iris:  0.9055047292987917 and 0.8031294830800967\n"
     ]
    },
    {
     "data": {
      "image/png": "[encoded data removed]",
      "text/plain": [
       "<Figure size 432x288 with 1 Axes>"
      ]
     },
     "metadata": {
      "needs_background": "light"
     },
     "output_type": "display_data"
    }
   ],
   "source": [
    "#write your codes and discuss here...\n",
    "\n",
    "df = pd.read_csv('https://archive.ics.uci.edu/ml/machine-learning-databases/iris/iris.data', header=None)\n",
    "\n",
    "X = df.iloc[:150, [1,3,4]].values\n",
    "dataset_iris = np.where(X == 'Iris-setosa', 0, 1)\n",
    "dataset_iris\n",
    "\n",
    "weight_list = []\n",
    "product_list = []\n",
    "\n",
    "final_weights_iris = perceptron(dataset,learning_rate)\n",
    "\n",
    "\n",
    "fig, ax = plt.subplots()\n",
    "xmin, xmax = 1, 4.5\n",
    "plt.title('Iris Classification', fontsize=20)\n",
    "plt.scatter(X[:50, 0], X[:50, 1], color='red', marker='o', label='Iris-Setosa')\n",
    "plt.scatter(X[50:150, 0], X[50:150, 1], color='blue', marker='x', label='Iris-Virginica-Versicolor')\n",
    "plt.xlabel('sepal length in cm')\n",
    "plt.ylabel('petal length in cm')\n",
    "plt.legend(loc='upper left')\n",
    "m = -weight_list[val][0] / weight_list[val][1]\n",
    "c = -bias / weight_list[val][1]\n",
    "ax.set_xlim([xmin, xmax])\n",
    "ax.set_ylim([0, 3])\n",
    "print(m, c)\n",
    "#ax.plot(X, m * X +c)\n",
    "plt.plot()\n",
    "\n",
    "print('Final Weights_iris: ',final_weights_iris[0],'and',final_weights_iris[1])"
   ]
  },
  {
   "cell_type": "markdown",
   "id": "06cdb3d1",
   "metadata": {},
   "source": [
    "# Task – 4\n",
    "Report and document the steps you followed to achieve the tasks above.\n",
    "Discuss your result and suggest a way to improve it.\n"
   ]
  },
  {
   "cell_type": "code",
   "execution_count": 4,
   "id": "48bd6901",
   "metadata": {},
   "outputs": [],
   "source": [
    "#write your codes and discuss here..."
   ]
  }
 ],
 "metadata": {
  "kernelspec": {
   "display_name": "Python 3 (ipykernel)",
   "language": "python",
   "name": "python3"
  },
  "language_info": {
   "codemirror_mode": {
    "name": "ipython",
    "version": 3
   },
   "file_extension": ".py",
   "mimetype": "text/x-python",
   "name": "python",
   "nbconvert_exporter": "python",
   "pygments_lexer": "ipython3",
   "version": "3.9.12"
  }
 },
 "nbformat": 4,
 "nbformat_minor": 5
}
